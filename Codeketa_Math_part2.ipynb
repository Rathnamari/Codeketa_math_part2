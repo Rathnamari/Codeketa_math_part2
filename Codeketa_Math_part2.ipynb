{
 "cells": [
  {
   "cell_type": "markdown",
   "id": "41f67138-2e75-4771-81db-ae1a54a9e0c8",
   "metadata": {},
   "source": [
    "# Question: 34\n",
    "\n",
    "You are given given task is to print whether array is ‘majestic’ or not.A ‘majsetic’ array is an array whose sum of first three number is equal to last three number.\r\n",
    "# \r\n",
    "Input Description:\r\n",
    "You are given a number ‘n’,Next line contains ‘n’ space separate# d\r\n",
    "\r\n",
    "Output Description:\r\n",
    "Print 1 if array is majestic and 0 if it is#  not\r\n",
    "\r\n",
    "Sample Input :\r\n",
    "7\r\n",
    "1 2 # 3 4 6 0 0\r\n",
    "Sample Output :\r\n",
    "1"
   ]
  },
  {
   "cell_type": "code",
   "execution_count": 1,
   "id": "c59c3d05-a0d4-452b-8fc3-57963b6dce28",
   "metadata": {},
   "outputs": [
    {
     "name": "stdin",
     "output_type": "stream",
     "text": [
      " 7\n",
      " 1 2 3 4 6 0 0\n"
     ]
    },
    {
     "name": "stdout",
     "output_type": "stream",
     "text": [
      "1\n"
     ]
    }
   ],
   "source": [
    "# Solution\n",
    "\n",
    "n = int(input())\n",
    "a = list(map(int,input().split()))\n",
    "b = a[0]+a[1]+a[2]\n",
    "c = a[-1]+a[-2]+a[-3]\n",
    "if b == c:\n",
    "  print(1)\n",
    "else:\n",
    "  print(0)"
   ]
  },
  {
   "cell_type": "markdown",
   "id": "94d61e80-1c68-432f-8227-4da149426de6",
   "metadata": {},
   "source": [
    "# Question : 35\n",
    "\n",
    "Given a number N, print 'yes' if it is a multiple of 13 else print 'no'.\r",
    "# \n",
    "Sample Testcase :# \r\n",
    "INPUT\r\n",
    "# 26\r\n",
    "OUTPUT\r\n",
    "yes"
   ]
  },
  {
   "cell_type": "code",
   "execution_count": 2,
   "id": "8614640f-2c8e-4218-9cf9-3a8ca7869b0d",
   "metadata": {},
   "outputs": [
    {
     "name": "stdin",
     "output_type": "stream",
     "text": [
      " 26\n"
     ]
    },
    {
     "name": "stdout",
     "output_type": "stream",
     "text": [
      "yes\n"
     ]
    }
   ],
   "source": [
    "# Solution\n",
    "N = int(input())\n",
    "if N%13 == 0:\n",
    "    print(\"yes\")\n",
    "else:\n",
    "    print(\"no\")"
   ]
  },
  {
   "cell_type": "markdown",
   "id": "0ae8c963-223f-4f7a-be79-4ca0368d6dfc",
   "metadata": {},
   "source": [
    "# Question : 36\n",
    "Assume that you are ticket verifier at a club. Your club has decided to give a special discount to the person(s) who are satisfying the following condition\r",
    " # \r\n",
    "\r\n",
    "Condition:-\r\n",
    "\r\n",
    "If ticket number is divisible by date of month. You are eligible for a disco# unt.\r\n",
    "\r\n",
    "Input Description:\r\n",
    "First line contains input ‘n’.Next line contains n space separated numbers denoting ticket numbers .Next line contains ‘k’ date of the#  month.\r\n",
    "\r\n",
    "Output Description:\r\n",
    "Print 1 if the ticket is eligible for disco# unt else 0\r\n",
    "\r\n",
    "Sample Input :\r\n",
    "6\r\n",
    "112 139 165#  175 262 130\r\n",
    "22\r\n",
    "Sample Output :\r\n",
    "0 0 0 0 0 0"
   ]
  },
  {
   "cell_type": "code",
   "execution_count": 3,
   "id": "63a3b0f1-e5b1-4d47-876f-ffd5724d1528",
   "metadata": {},
   "outputs": [
    {
     "name": "stdin",
     "output_type": "stream",
     "text": [
      " 6\n",
      " 112 139 165 175 262 130\n",
      " 22\n"
     ]
    },
    {
     "name": "stdout",
     "output_type": "stream",
     "text": [
      "0 0 0 0 0 0\n"
     ]
    }
   ],
   "source": [
    "# Solution\n",
    "\n",
    "n = []\n",
    "a = int(input())\n",
    "b = list(map(int,input().split()))\n",
    "k = int(input())\n",
    "for i in range(0,len(b)):\n",
    "  if b[i]% k == 0:\n",
    "    n.append(1)\n",
    "  else:\n",
    "    n.append(0)\n",
    "print(*n)"
   ]
  },
  {
   "cell_type": "markdown",
   "id": "8c525703-575e-4baf-bcd0-c145bc1fc807",
   "metadata": {},
   "source": [
    "# Question: 40\n",
    "Given a floating point number with 1 decimal place round it off to nearest greater integer and print it.\r",
    "# \n",
    "Sample Testcase :# \r\n",
    "INPUT\r\n",
    "2# .6\r\n",
    "OUTPUT\r\n",
    "3"
   ]
  },
  {
   "cell_type": "code",
   "execution_count": 5,
   "id": "14d24e91-f420-4c3d-8241-0af0983653ec",
   "metadata": {},
   "outputs": [
    {
     "name": "stdin",
     "output_type": "stream",
     "text": [
      " 2.6\n"
     ]
    },
    {
     "name": "stdout",
     "output_type": "stream",
     "text": [
      "3\n"
     ]
    }
   ],
   "source": [
    "import math\n",
    "n = float(input())\n",
    "print(math.ceil(n))"
   ]
  },
  {
   "cell_type": "markdown",
   "id": "4a412483-cb41-41c3-9dcd-d3341db67565",
   "metadata": {},
   "source": [
    "# Question: 41\n",
    "Given 2 numbers N,M. Print 'yes' if their product is a perfect square else print 'no'.\r",
    "# \n",
    "Sample Testcase :# \r\n",
    "INPUT\r\n",
    "5#  5\r\n",
    "OUTPUT\r\n",
    "yes"
   ]
  },
  {
   "cell_type": "code",
   "execution_count": 6,
   "id": "03bbe5a3-e0b8-45cb-be31-4e9ec61c1e32",
   "metadata": {},
   "outputs": [
    {
     "name": "stdin",
     "output_type": "stream",
     "text": [
      " 5 5\n"
     ]
    },
    {
     "name": "stdout",
     "output_type": "stream",
     "text": [
      "yes\n"
     ]
    }
   ],
   "source": [
    "# Solution\n",
    "\n",
    "a,b = input().split()\n",
    "if a== b :\n",
    "  print(\"yes\")\n",
    "else:\n",
    "  print(\"no\")"
   ]
  },
  {
   "cell_type": "markdown",
   "id": "288d9b8f-5bb0-4733-aec6-2c5a034517e9",
   "metadata": {},
   "source": [
    "# Question : 42\n",
    "Given a number N, print its factors.\r\n",
    "Input Size : n<=1000# \r\n",
    "Sample Testcase # :\r\n",
    "INPUT# \r\n",
    "6\r\n",
    "OUTPUT\r\n",
    "1 2 3 6"
   ]
  },
  {
   "cell_type": "code",
   "execution_count": 7,
   "id": "03f6ff46-6bfc-4d94-b193-10d80741c54a",
   "metadata": {},
   "outputs": [
    {
     "name": "stdin",
     "output_type": "stream",
     "text": [
      " 6\n"
     ]
    },
    {
     "name": "stdout",
     "output_type": "stream",
     "text": [
      "1 2 3 6\n"
     ]
    }
   ],
   "source": [
    "# Solution\n",
    "\n",
    "N = int(input())\n",
    "a = []\n",
    "for i in range(1,N+1):\n",
    "  if N%i == 0:\n",
    "    a.append(i)\n",
    "  else:\n",
    "    pass\n",
    "print(*a)"
   ]
  },
  {
   "cell_type": "markdown",
   "id": "14971e27-64d9-42c6-8e5a-45f130feeaf8",
   "metadata": {},
   "source": [
    "# Question : 43\n",
    "Given 2 numbers N and M add both the numbers and check whether the sum is odd or even.\r",
    "# \n",
    "Sample Testcase :# \r\n",
    "INPUT\r\n",
    "9#  2\r\n",
    "OUTPUT\r\n",
    "odd"
   ]
  },
  {
   "cell_type": "code",
   "execution_count": 8,
   "id": "e8c5b55c-6f47-4650-8c59-6fad5a7a5945",
   "metadata": {},
   "outputs": [
    {
     "name": "stdin",
     "output_type": "stream",
     "text": [
      " 9 2\n"
     ]
    },
    {
     "name": "stdout",
     "output_type": "stream",
     "text": [
      "odd\n"
     ]
    }
   ],
   "source": [
    "# Solution\n",
    "\n",
    "N,M = list(map(int,input().split()))\n",
    "L = N +M \n",
    "if L%2 == 0 :\n",
    "    print(\"even\")\n",
    "else:\n",
    "    print(\"odd\")"
   ]
  },
  {
   "cell_type": "markdown",
   "id": "4da56fc7-1b07-4c36-9714-e72def5521c2",
   "metadata": {},
   "source": [
    "# Question: 44\n",
    "\n",
    "Given a number N, check whether it is prime or not. Print 'yes' if it is prime else print 'no'.\n",
    "# Sample Testcase :\n",
    "# INPUT\n",
    "123\n",
    "# OUTPUT\n",
    "no"
   ]
  },
  {
   "cell_type": "code",
   "execution_count": 9,
   "id": "54a2dc71-7144-4d83-9b55-0627f23d769c",
   "metadata": {},
   "outputs": [
    {
     "name": "stdin",
     "output_type": "stream",
     "text": [
      " 123\n"
     ]
    },
    {
     "name": "stdout",
     "output_type": "stream",
     "text": [
      "no\n"
     ]
    }
   ],
   "source": [
    "N = int(input())\n",
    "a = []\n",
    "for i in range(2,N):\n",
    "  if N%i == 0:\n",
    "    a.append(i)\n",
    "  else:\n",
    "    pass\n",
    "if len(a) > 0:\n",
    "  print(\"no\")\n",
    "else:\n",
    "  print(\"yes\")"
   ]
  },
  {
   "cell_type": "markdown",
   "id": "3e7e8f93-3d5b-4439-b4c6-c3e95a1ff8ae",
   "metadata": {},
   "source": [
    "# Question: 45\n",
    "Given the values of a,b and x in the equation ax + b = y. Find the value of y.\n",
    "# Sample Testcase :\n",
    "# INPUT\n",
    "3 5 2\n",
    "# OUTPUT\n",
    "11"
   ]
  },
  {
   "cell_type": "code",
   "execution_count": 10,
   "id": "43a7c71b-2e63-409b-8d13-35d6270c0d0d",
   "metadata": {},
   "outputs": [
    {
     "name": "stdin",
     "output_type": "stream",
     "text": [
      " 3 5 2\n"
     ]
    },
    {
     "name": "stdout",
     "output_type": "stream",
     "text": [
      "11\n"
     ]
    }
   ],
   "source": [
    "a,b,x = list(map(int,input().split()))\n",
    "l = a*x\n",
    "y = l + b\n",
    "print(y)"
   ]
  },
  {
   "cell_type": "markdown",
   "id": "531b2da9-6b62-4cbe-8874-cc16b68512e0",
   "metadata": {},
   "source": [
    "# Question: 46\n",
    "\n",
    "Given a number N, print 'yes' if it is composite else print 'no'.\r",
    "# \n",
    "Sample Testcase :# \r\n",
    "INPUT\r\n",
    "1# 23\r\n",
    "OUTPUT\r\n",
    "yes"
   ]
  },
  {
   "cell_type": "code",
   "execution_count": 11,
   "id": "b003ff80-a586-4ccb-82bf-10282562613b",
   "metadata": {},
   "outputs": [
    {
     "name": "stdin",
     "output_type": "stream",
     "text": [
      " 123\n"
     ]
    },
    {
     "name": "stdout",
     "output_type": "stream",
     "text": [
      "yes\n"
     ]
    }
   ],
   "source": [
    "# Solution\n",
    "N = int(input())\n",
    "a = []\n",
    "for i in range(2,N):\n",
    "  if N%i == 0:\n",
    "    a.append(i)\n",
    "  else:\n",
    "    pass\n",
    "if len(a) > 0:\n",
    "  print(\"yes\")\n",
    "else:\n",
    "  print(\"no\")"
   ]
  },
  {
   "cell_type": "code",
   "execution_count": null,
   "id": "b642ea44-3ad7-4517-98bb-89c43f408dc3",
   "metadata": {},
   "outputs": [],
   "source": []
  }
 ],
 "metadata": {
  "kernelspec": {
   "display_name": "Python 3 (ipykernel)",
   "language": "python",
   "name": "python3"
  },
  "language_info": {
   "codemirror_mode": {
    "name": "ipython",
    "version": 3
   },
   "file_extension": ".py",
   "mimetype": "text/x-python",
   "name": "python",
   "nbconvert_exporter": "python",
   "pygments_lexer": "ipython3",
   "version": "3.10.0"
  }
 },
 "nbformat": 4,
 "nbformat_minor": 5
}
